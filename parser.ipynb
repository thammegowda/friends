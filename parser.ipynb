{
 "cells": [
  {
   "cell_type": "code",
   "execution_count": 80,
   "metadata": {},
   "outputs": [],
   "source": [
    "from lxml import etree as et\n",
    "from pathlib import Path\n",
    "import re\n",
    "\n",
    "parser = et.HTMLParser()\n",
    "#encoding=\"utf-8\"\n",
    "\n",
    "import logging as log\n",
    "log.basicConfig(level=log.DEBUG)"
   ]
  },
  {
   "cell_type": "code",
   "execution_count": 54,
   "metadata": {},
   "outputs": [],
   "source": [
    "htmls = list(Path('season').glob('*.html'))"
   ]
  },
  {
   "cell_type": "code",
   "execution_count": null,
   "metadata": {},
   "outputs": [],
   "source": [
    "def _clean_text(text, from_enc, to_enc='utf-8'):\n",
    "    text = text.encode(from_enc, errors='ignore').decode(to_enc, errors='ignore')\n",
    "    return re.sub('\\s+', ' ', text)\n",
    "\n",
    "ignore_lines = set([\"opening credits\", \"commercial break\", \"closing credits\", \"end\",\n",
    "                    \"ending credits\", \"the end\"])\n",
    "\n",
    "\n",
    "def extract_transcript(html: Path):\n",
    "    \"\"\"\n",
    "    \n",
    "    \"\"\"\n",
    "    id = html.name.replace('.html', '')\n",
    "    doc = et.parse(str(html), parser)\n",
    "    items = doc.getroot().xpath('//p')\n",
    "    if not items:\n",
    "        raise Exception(f\"Cant parse {html}\")\n",
    "    del items[0]     # remove the first one, since it is metadata\n",
    "\n",
    "    count = 0\n",
    "    for it in items:\n",
    "        count += 1\n",
    "        pieces = it.xpath('.//text()')\n",
    "        pieces = [p.strip() for p in pieces] # strip white spaces\n",
    "        pieces = [p for p in pieces if p]  # skip empty pieces\n",
    "        \n",
    "        if not pieces:\n",
    "            log.warning(f\"Empty para: {id}; count={count}\")\n",
    "            continue\n",
    "\n",
    "        text = \" \".join(pieces)     \n",
    "        if text.lower() in ignore_lines:\n",
    "            continue # its okay to skip them \n",
    "\n",
    "        if '[' == text[0]:\n",
    "            text = text.replace(\"[\", \"\", 1).replace(\"]\", \"\")\n",
    "            tag = '<scene>'\n",
    "        elif text[0] in (\"(\", \"<\"): # event\n",
    "            text = text.replace(\"(\", \"\", 1).replace(\")\", \"\").replace(\"<\", \"\", 1).replace(\">\", \"\")\n",
    "            tag = '<event>'\n",
    "        else:\n",
    "            if pieces[0][-1] == ':':\n",
    "                tag = pieces[0][:-1]\n",
    "                text = \" \".join(pieces[1:])\n",
    "            else:          \n",
    "                matched = re.match(\"^([A-Za-z\\.,\\(\\)' ]+:)(.*)\", text)\n",
    "                if matched:\n",
    "                    tag, text = matched.groups()\n",
    "                    tag = tag.replace(\":\", \"\").strip()\n",
    "                else:\n",
    "                    log.warning(f\"Dont know how to parse: {pieces}\")                \n",
    "                    tag = \"<error>\"\n",
    "        text = _clean_text(text, from_enc=doc.docinfo.encoding)\n",
    "        yield f'{id}-{(count):03d}', tag, text\n",
    "\n",
    "with open(\"transcripts.tsv\", 'w', encoding='utf-8', errors='ignore') as out:\n",
    "    for html in htmls:\n",
    "        chat = extract_transcript(html)\n",
    "        for msg in chat:\n",
    "            out.write('%s\\t%s\\t%s\\n' % msg)"
   ]
  },
  {
   "cell_type": "code",
   "execution_count": null,
   "metadata": {},
   "outputs": [],
   "source": []
  }
 ],
 "metadata": {
  "kernelspec": {
   "display_name": "Python 3",
   "language": "python",
   "name": "python3"
  },
  "language_info": {
   "codemirror_mode": {
    "name": "ipython",
    "version": 3
   },
   "file_extension": ".py",
   "mimetype": "text/x-python",
   "name": "python",
   "nbconvert_exporter": "python",
   "pygments_lexer": "ipython3",
   "version": "3.6.6"
  }
 },
 "nbformat": 4,
 "nbformat_minor": 2
}
