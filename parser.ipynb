{
 "cells": [
  {
   "cell_type": "code",
   "execution_count": 156,
   "metadata": {},
   "outputs": [],
   "source": [
    "from lxml import etree as et\n",
    "from pathlib import Path\n",
    "import re\n",
    "\n",
    "parser = et.HTMLParser()\n",
    "#encoding=\"utf-8\"\n",
    "\n",
    "import logging as log\n",
    "log.basicConfig(level=log.DEBUG)"
   ]
  },
  {
   "cell_type": "code",
   "execution_count": 167,
   "metadata": {},
   "outputs": [],
   "source": [
    "def _clean_text(text, from_enc, to_enc='utf-8'):\n",
    "    text = text.encode(from_enc, errors='ignore').decode(to_enc, errors='ignore')\n",
    "    return re.sub('\\s+', ' ', text)\n",
    "\n",
    "ignore_lines = set(\n",
    "    [\"opening credits\", \"commercial break\", \"closing credits\",\n",
    "     \"end\", \"ending credits\", \"the end\", \"opening titles\", \"transcriber\"])\n",
    "\n",
    "def _can_ignore(text):\n",
    "    \"\"\"\n",
    "    True if the given text be ignored, False otherwise\n",
    "    \"\"\"\n",
    "    text = text.lower()\n",
    "    for ig in ignore_lines:\n",
    "        if text.startswith(ig):\n",
    "            return True\n",
    "    return False\n",
    "\n",
    "def extract_transcript(html: Path):\n",
    "    \"\"\"\n",
    "    Extracts transcripts from a HTML page\n",
    "    \"\"\"\n",
    "    id = html.name.replace('.html', '')\n",
    "    doc = et.parse(str(html), parser)\n",
    "    items = doc.getroot().xpath('//p')\n",
    "    if not items:\n",
    "        raise Exception(f\"Cant parse {html}\")\n",
    "    del items[0]     # remove the first one, since it is metadata\n",
    "\n",
    "    count = 0\n",
    "    for it in items:\n",
    "        count += 1\n",
    "        pieces = it.xpath('.//text()')\n",
    "        pieces = [p.strip() for p in pieces] # strip white spaces\n",
    "        pieces = [p for p in pieces if p]  # skip empty pieces\n",
    "        \n",
    "        if not pieces:\n",
    "            log.warning(f\"Empty para: {id}; count={count}\")\n",
    "            continue\n",
    "\n",
    "        text = \" \".join(pieces)\n",
    "        text = _clean_text(text, from_enc=doc.docinfo.encoding)\n",
    "        if _can_ignore(text):\n",
    "            continue # its okay to skip them \n",
    "\n",
    "        if '[' == text[0]:\n",
    "            text = text.replace(\"[\", \"\", 1).replace(\"]\", \"\").replace(\"Scene:\", \"\").strip()\n",
    "            tag = '<scene>'\n",
    "        elif text[0] in (\"(\", \"<\"): # event\n",
    "            text = text.replace(\"(\", \"\", 1).replace(\")\", \"\").replace(\"<\", \"\", 1).replace(\">\", \"\")\n",
    "            tag = '<event>'\n",
    "        else:\n",
    "            matched = re.match(\"^([A-Za-z0-1\\.,\\(\\)'#\\- ]+:)(.*)\", text)\n",
    "            if matched:\n",
    "                tag, text = matched.groups()\n",
    "                tag = tag.replace(\":\", \"\").strip()\n",
    "                tag = tag.title()\n",
    "            else:\n",
    "                log.warning(f\"Dont know how to parse: {pieces}\")                \n",
    "                tag = \"<error>\"\n",
    "        \n",
    "        yield f'{id}-{(count):03d}', tag, text"
   ]
  },
  {
   "cell_type": "code",
   "execution_count": null,
   "metadata": {},
   "outputs": [],
   "source": [
    "htmls = list(Path('season').glob('*.html'))\n",
    "htmls = sorted(htmls)\n",
    "print(f\"found {len(htmls)} files\")\n",
    "with open(\"friends.transcripts.all.tsv\", 'w', encoding='utf-8', errors='ignore') as out:\n",
    "    for html in htmls:\n",
    "        chat = extract_transcript(html)\n",
    "        for msg in chat:\n",
    "            out.write('%s\\t%s\\t%s\\n' % msg)"
   ]
  },
  {
   "cell_type": "code",
   "execution_count": 143,
   "metadata": {},
   "outputs": [
    {
     "name": "stdout",
     "output_type": "stream",
     "text": [
      "('0224-001', '<scene>', 'Scene: Central Perk, the whole gang is there as Joey enters')\n",
      "('0224-002', 'RACHEL', \" Hey Joey, how'd the audition go?\")\n",
      "('0224-003', 'JOEY', \" Incredible! I met the director this time and you'll never believe who it was.\")\n",
      "('0224-004', 'ALL', ' Who?')\n",
      "('0224-005', 'JOEY', \" All right. I'll give you one hint. Warren Beatty.\")\n",
      "('0224-006', 'ALL', ' Wow!')\n",
      "('0224-007', 'JOEY', \" Yeah, there's just one thing that might be kind've a problem. See, I, uh, had to kiss this guy.\")\n",
      "('0224-008', 'CHANDLER', \" 'Cause he was just so darn cute.\")\n",
      "('0224-009', 'JOEY', \" No, as part of the audition. See, I'm up for this part of this guy, who the main guy kisses.\")\n",
      "('0224-010', 'ROSS', \" Well, hey. You're an actor, I say you just suck it up and do it. (Rachel looks at him in disbelief) Or you just do it.\")\n",
      "('0224-011', 'JOEY', \" I did do it, I'm a professional.\")\n",
      "('0224-012', 'MONICA', \" Then what's the problem?\")\n"
     ]
    }
   ],
   "source": [
    "p = Path('season/fixedformat/0224.html')\n",
    "for i, x in enumerate(extract_transcript(p)):\n",
    "    print(x)"
   ]
  },
  {
   "cell_type": "code",
   "execution_count": null,
   "metadata": {},
   "outputs": [],
   "source": []
  }
 ],
 "metadata": {
  "kernelspec": {
   "display_name": "Python 3",
   "language": "python",
   "name": "python3"
  },
  "language_info": {
   "codemirror_mode": {
    "name": "ipython",
    "version": 3
   },
   "file_extension": ".py",
   "mimetype": "text/x-python",
   "name": "python",
   "nbconvert_exporter": "python",
   "pygments_lexer": "ipython3",
   "version": "3.6.6"
  }
 },
 "nbformat": 4,
 "nbformat_minor": 2
}
